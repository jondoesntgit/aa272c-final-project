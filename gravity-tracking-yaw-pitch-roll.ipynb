{
 "cells": [
  {
   "cell_type": "markdown",
   "metadata": {},
   "source": [
    "# Explanation\n",
    "\n",
    "This file measured how a phone behaved when it was more or less at rest. The pitch and yaw are calculated by estimating what pitch and yaw would be required to get the accelerometers to pick up the earth's gravity vector in the way that it is currently picking it up.\n",
    "\n",
    "This code was also used in an attempt to debug the rotation state process equations"
   ]
  },
  {
   "cell_type": "code",
   "execution_count": 469,
   "metadata": {},
   "outputs": [],
   "source": [
    "import numpy as np\n",
    "import matplotlib.pyplot as plt\n",
    "import pandas as pd\n",
    "\n",
    "inv = np.linalg.inv"
   ]
  },
  {
   "cell_type": "code",
   "execution_count": 470,
   "metadata": {},
   "outputs": [],
   "source": [
    "filename = 'ios/rotation-through-g-field.csv'\n",
    "filename = 'ios/rotation-along-principle-axes.csv'\n",
    "t, _, _, _, ax, ay, az, _, gx, gy, gz, _, magx, magy, magz, _, _, alt, _  = pd.read_csv(filename).values.T"
   ]
  },
  {
   "cell_type": "code",
   "execution_count": 636,
   "metadata": {},
   "outputs": [],
   "source": [
    "filename = 'ios/rotation-through-g-field.csv'\n",
    "fields = pd.read_csv('ios/shake-with-gps.csv').columns\n",
    "filename = 'ios/sit-on-couch.csv'\n",
    "(t, _, _,location_timestamp,\n",
    "latitude, longitude, altitude,\n",
    " _, _, vertical_accuracy, horizontal_accuracy, _, \n",
    "at, ax, ay, az,\n",
    "gt, gx, gy, gz,\n",
    "_, magx, magy, magz,\n",
    "_, _, alt, _,\n",
    ") = pd.read_csv(filename)[fields].values.T[:,::10]"
   ]
  },
  {
   "cell_type": "code",
   "execution_count": 637,
   "metadata": {},
   "outputs": [],
   "source": [
    "t = pd.to_datetime(t)"
   ]
  },
  {
   "cell_type": "code",
   "execution_count": 638,
   "metadata": {},
   "outputs": [],
   "source": [
    "dt = ((t[-1] - t[0]) / (len(t) - 1)).value / 1e9"
   ]
  },
  {
   "cell_type": "code",
   "execution_count": 639,
   "metadata": {},
   "outputs": [
    {
     "data": {
      "text/plain": [
       "[<matplotlib.lines.Line2D at 0x128093ac8>]"
      ]
     },
     "execution_count": 639,
     "metadata": {},
     "output_type": "execute_result"
    },
    {
     "data": {
      "image/png": "[encoded data removed]",
      "text/plain": [
       "<Figure size 432x288 with 1 Axes>"
      ]
     },
     "metadata": {
      "needs_background": "light"
     },
     "output_type": "display_data"
    }
   ],
   "source": [
    "plt.plot(t, az)"
   ]
  },
  {
   "cell_type": "code",
   "execution_count": 640,
   "metadata": {},
   "outputs": [],
   "source": [
    "def R_(yaw, pitch, roll):\n",
    "    \"\"\"http://planning.cs.uiuc.edu/node102.html\"\"\"\n",
    "    \"\"\"Performs first roll, then pitch, then yaw\"\"\"\n",
    "    \"\"\"a : alpha, yaw\"\"\"\n",
    "    \"\"\"b: beta, pitch\"\"\"\n",
    "    \"\"\"r: gamma, roll\"\"\"\n",
    "    ca = np.cos(yaw)\n",
    "    cb = np.cos(pitch)\n",
    "    cg = np.cos(roll)\n",
    "    sa = np.sin(yaw)\n",
    "    sb = np.sin(pitch)\n",
    "    sg = np.sin(roll)\n",
    "    \n",
    "    \n",
    "    yR = np.array([\n",
    "        [ca, sa, 0],\n",
    "        [-sa, ca, 0],\n",
    "        [0, 0, 1]\n",
    "    ])\n",
    "    \n",
    "    pR = np.array([\n",
    "        [1, 0, 0],\n",
    "        [0, cb, sb],\n",
    "        [0, -sb, cb]\n",
    "    ])\n",
    "    \n",
    "    rR = np.array([\n",
    "        [cg, 0, -sg],\n",
    "        [0, 1, 0],\n",
    "        [sg, 0, cg]\n",
    "    ])\n",
    "    \n",
    "    return rR @ pR @ yR\n",
    "    return np.array([\n",
    "        [ca*cg - sa*sb*sg, cg*sa + ca*sb*sg, -cb*sg],\n",
    "        [-cb*sa, ca*cb, sb],\n",
    "        [cg*sa*sb + ca*sg, -ca*cg*sb + sa*sg, cb*cg]\n",
    "    ])\n",
    "\n",
    "def get_yaw_pitch_roll_from_R(R):\n",
    "    \"\"\"https://math.stackexchange.com/a/2802520\"\"\"\n",
    "    yaw = np.angle(-1j*R[1,0] + R[1,1])\n",
    "    pitch = np.arcsin(R[1,2])\n",
    "    roll = np.arctan(-R[0,2]/R[2,2])\n",
    "    \n",
    "    return yaw, pitch, roll\n",
    "\n",
    "def h(mu):\n",
    "    pitch, roll = mu\n",
    "    return R_(0, pitch, roll) @ np.array([0, 0, -1])"
   ]
  },
  {
   "cell_type": "code",
   "execution_count": 641,
   "metadata": {},
   "outputs": [
    {
     "data": {
      "text/plain": [
       "array([ 0.42, -0.48, -0.77])"
      ]
     },
     "execution_count": 641,
     "metadata": {},
     "output_type": "execute_result"
    }
   ],
   "source": [
    "np.around(h((.5, .5)), 2)"
   ]
  },
  {
   "cell_type": "code",
   "execution_count": 642,
   "metadata": {},
   "outputs": [
    {
     "data": {
      "text/plain": [
       "[-0.21233267474400228, -0.005955309883433351]"
      ]
     },
     "execution_count": 642,
     "metadata": {},
     "output_type": "execute_result"
    }
   ],
   "source": [
    "[sb*sg, -cb*cg],\n",
    "[cb, 0],\n",
    "[-sb*cg, -cb*sg]"
   ]
  },
  {
   "cell_type": "code",
   "execution_count": 643,
   "metadata": {},
   "outputs": [
    {
     "data": {
      "text/plain": [
       "array([-0.1, -1. , -0.2])"
      ]
     },
     "execution_count": 643,
     "metadata": {},
     "output_type": "execute_result"
    }
   ],
   "source": [
    "np.around(get_yaw_pitch_roll_from_R(R_(-.1, -1, -.2)),2)"
   ]
  },
  {
   "cell_type": "code",
   "execution_count": 644,
   "metadata": {},
   "outputs": [],
   "source": [
    "Q_acc = .1\n",
    "Q_ang = .001\n",
    "\n",
    "number_of_timesteps = len(t)\n",
    "number_of_states = 2\n",
    "\n",
    "Q = np.array([\n",
    "    [Q_ang, 0],  \n",
    "    [0, Q_ang],    \n",
    "])    \n",
    "\n",
    "R = np.array([\n",
    "    [Q_acc, 0, 0],\n",
    "    [0, Q_acc, 0],    \n",
    "    [0, 0, Q_acc]\n",
    "]) ** 2    \n",
    "\n",
    "kalman_states = np.empty((number_of_timesteps, number_of_states)) * np.nan\n",
    "kalman_errors = np.empty((number_of_timesteps, number_of_states)) * np.nan\n",
    "\n",
    "I = np.identity(number_of_states)\n",
    "\n",
    "# Initialize state\n",
    "mu = np.array([np.pi/8, np.pi/8])\n",
    "P = np.array([\n",
    "    [Q_ang, 0],\n",
    "    [0, Q_ang],\n",
    "])\n",
    "for time_index in range(number_of_timesteps):\n",
    "    # Kalman step\n",
    "\n",
    "    pitch, roll = mu     \n",
    "    ax_, ay_, az_ = np.stack([ax, ay, az]).T[time_index, :]\n",
    "    \n",
    "    def f(mu, u):\n",
    "        return mu\n",
    "    \n",
    "    def h(mu):\n",
    "        pitch, roll = mu\n",
    "        return R_(0, pitch, roll) @ np.array([0, 0, -1])\n",
    "\n",
    "    F = np.array([\n",
    "        [1, 0],\n",
    "        [0, 1],\n",
    "    ])    \n",
    "    \n",
    "    z = np.array([ax_, ay_, az_])\n",
    "    \n",
    "    cb = np.cos(pitch)\n",
    "    sb = np.sin(pitch)\n",
    "    cg = np.cos(roll)\n",
    "    sg = np.sin(roll)\n",
    "    \n",
    "    H = -(np.array([\n",
    "        [sb*sg, -cb*cg],\n",
    "        [cb, 0],\n",
    "        [-sb*cg, -cb*sg]     \n",
    "    ]))\n",
    "\n",
    "    # Predict\n",
    "    mu_model = f(mu, _)\n",
    "    P = F @ P @ F.T + Q\n",
    "\n",
    "    # Update\n",
    "    y = z - h(mu)\n",
    "    K = P @ H.T @ np.linalg.inv(R + H @ P @ H.T)\n",
    "    mu = mu_model + K @ y\n",
    "    P = (I - K @ H) @ P @ (I - K @ H).T + K @ R @ K.T\n",
    "    y = z - H @ mu # post-fit residual\n",
    "    \n",
    "\n",
    "    kalman_states[time_index,:] = mu\n",
    "    kalman_errors[time_index,:] = P.diagonal()**.5"
   ]
  },
  {
   "cell_type": "code",
   "execution_count": 645,
   "metadata": {},
   "outputs": [
    {
     "data": {
      "text/plain": [
       "array([ 0.  , -0.48, -0.88])"
      ]
     },
     "execution_count": 645,
     "metadata": {},
     "output_type": "execute_result"
    }
   ],
   "source": [
    "np.around(h((.5, 0)), 2)"
   ]
  },
  {
   "cell_type": "code",
   "execution_count": 646,
   "metadata": {},
   "outputs": [
    {
     "data": {
      "text/plain": [
       "array([0.    , 0.1987, 0.9801])"
      ]
     },
     "execution_count": 646,
     "metadata": {},
     "output_type": "execute_result"
    }
   ],
   "source": [
    "np.around(h((np.pi+.2, 0)), 4)"
   ]
  },
  {
   "cell_type": "code",
   "execution_count": 647,
   "metadata": {},
   "outputs": [
    {
     "data": {
      "text/plain": [
       "array([ 0.    , -0.1987, -0.9801])"
      ]
     },
     "execution_count": 647,
     "metadata": {},
     "output_type": "execute_result"
    }
   ],
   "source": [
    "np.around(h((.2, 0)), 4)"
   ]
  },
  {
   "cell_type": "code",
   "execution_count": 648,
   "metadata": {},
   "outputs": [
    {
     "data": {
      "text/plain": [
       "[<matplotlib.lines.Line2D at 0x12a858860>]"
      ]
     },
     "execution_count": 648,
     "metadata": {},
     "output_type": "execute_result"
    },
    {
     "data": {
      "image/png": "[encoded data removed]",
      "text/plain": [
       "<Figure size 432x288 with 1 Axes>"
      ]
     },
     "metadata": {
      "needs_background": "light"
     },
     "output_type": "display_data"
    }
   ],
   "source": [
    "plt.plot(ay)"
   ]
  },
  {
   "cell_type": "code",
   "execution_count": 649,
   "metadata": {},
   "outputs": [
    {
     "data": {
      "image/png": "[encoded data removed]",
      "text/plain": [
       "<Figure size 432x288 with 2 Axes>"
      ]
     },
     "metadata": {
      "needs_background": "light"
     },
     "output_type": "display_data"
    }
   ],
   "source": [
    "fig, (ax1, ax2) = plt.subplots(2, sharex=True)\n",
    "\n",
    "pitch = kalman_states[:, 0]\n",
    "roll = kalman_states[:, 1]\n",
    "ax1.plot(t, pitch, '.')\n",
    "ax2.plot(t, roll, '.')\n",
    "fig.autofmt_xdate()"
   ]
  },
  {
   "cell_type": "code",
   "execution_count": 650,
   "metadata": {},
   "outputs": [],
   "source": [
    "accel_only = kalman_states.copy()"
   ]
  },
  {
   "cell_type": "code",
   "execution_count": 651,
   "metadata": {},
   "outputs": [],
   "source": [
    "Q_acc = .01\n",
    "Q_ang = .0001 * dt\n",
    "\n",
    "number_of_timesteps = len(t)\n",
    "number_of_states = 3\n",
    "\n",
    "Q = np.array([\n",
    "    [Q_ang, 0, 0],  \n",
    "    [0, Q_ang, 0],   \n",
    "    [0, 0, Q_ang],   \n",
    "])    \n",
    "\n",
    "R = np.array([\n",
    "    [Q_acc, 0, 0],\n",
    "    [0, Q_acc, 0],    \n",
    "    [0, 0, Q_acc]\n",
    "]) ** 2    \n",
    "\n",
    "kalman_states = np.empty((number_of_timesteps, number_of_states)) * np.nan\n",
    "kalman_errors = np.empty((number_of_timesteps, number_of_states)) * np.nan\n",
    "\n",
    "I = np.identity(number_of_states)\n",
    "\n",
    "# initialize state\n",
    "mu = np.array([np.pi/8, np.pi/8, 0])\n",
    "P = np.array([\n",
    "    [Q_ang, 0, 0],\n",
    "    [0, Q_ang, 0],\n",
    "    [0, 0, Q_ang],    \n",
    "])\n",
    "for time_index in range(number_of_timesteps):\n",
    "    # Kalman step\n",
    "\n",
    "    pitch, roll, yaw = mu     \n",
    "    ax_, ay_, az_ = np.stack([ax, ay, az]).T[time_index, :]\n",
    "    \n",
    "    def f(mu, u):\n",
    "        gx, gy, gz = u\n",
    "        dyaw = gz * dt\n",
    "        dpitch = gx * dt\n",
    "        droll = gy * dt\n",
    "        \n",
    "        pitch, roll, yaw = mu\n",
    "        \n",
    "        total_R = R_(dyaw, dpitch, droll) @ R_(yaw, pitch, roll)\n",
    "        yaw, pitch, roll = get_yaw_pitch_roll_from_R(total_R)\n",
    "        mu = np.array([pitch, roll, yaw])\n",
    "        \n",
    "        return mu\n",
    "    \n",
    "    def h(mu):\n",
    "        pitch, roll, yaw = mu\n",
    "        return R_(0, pitch, roll) @ np.array([0, 0, -1])\n",
    "\n",
    "    F = np.array([\n",
    "        [1, 0, 0],\n",
    "        [0, 1, 0],\n",
    "        [0, 0, 1]\n",
    "    ])    \n",
    "    \n",
    "    z = np.array([ax_, ay_, az_])\n",
    "    \n",
    "    cb = np.cos(pitch)\n",
    "    sb = np.sin(pitch)\n",
    "    cg = np.cos(roll)\n",
    "    sg = np.sin(roll)\n",
    "    \n",
    "    H = -(np.array([\n",
    "        [sb*sg, -cb*cg],\n",
    "        [cb, 0],\n",
    "        [-sb*cg, -cb*sg]     \n",
    "    ]))\n",
    "\n",
    "    # Predict\n",
    "    u = np.vstack([gx, gy, gz]).T[time_index]\n",
    "    mu_model = f(mu, u)\n",
    "    P = F @ P @ F.T + Q\n",
    "\n",
    "    # Update\n",
    "    #y = z - h(mu)\n",
    "    #K = P @ H.T @ np.linalg.inv(R + H @ P @ H.T)\n",
    "    mu = mu_model #+ K @ y\n",
    "    #P = (I - K @ H) @ P @ (I - K @ H).T + K @ R @ K.T\n",
    "    #y = z - H @ mu # post-fit residual\n",
    "\n",
    "    kalman_states[time_index,:] = mu\n",
    "    kalman_errors[time_index,:] = P.diagonal()**.5"
   ]
  },
  {
   "cell_type": "code",
   "execution_count": 652,
   "metadata": {},
   "outputs": [
    {
     "data": {
      "text/plain": [
       "[<matplotlib.lines.Line2D at 0x1295722b0>]"
      ]
     },
     "execution_count": 652,
     "metadata": {},
     "output_type": "execute_result"
    },
    {
     "data": {
      "image/png": "[encoded data removed]",
      "text/plain": [
       "<Figure size 432x288 with 1 Axes>"
      ]
     },
     "metadata": {
      "needs_background": "light"
     },
     "output_type": "display_data"
    }
   ],
   "source": [
    "plt.plot(gy)"
   ]
  },
  {
   "cell_type": "code",
   "execution_count": 653,
   "metadata": {},
   "outputs": [
    {
     "data": {
      "image/png": "[encoded data removed]",
      "text/plain": [
       "<Figure size 432x288 with 3 Axes>"
      ]
     },
     "metadata": {
      "needs_background": "light"
     },
     "output_type": "display_data"
    }
   ],
   "source": [
    "fig, (ax1, ax2, ax3) = plt.subplots(3, sharex=True)\n",
    "\n",
    "pitch = kalman_states[:, 0]\n",
    "roll = kalman_states[:, 1]\n",
    "yaw = kalman_states[:, 2]\n",
    "ax1.plot(t, pitch, '.')\n",
    "ax2.plot(t, roll, '.')\n",
    "ax3.plot(t, yaw, '.')\n",
    "fig.autofmt_xdate()"
   ]
  },
  {
   "cell_type": "code",
   "execution_count": 654,
   "metadata": {},
   "outputs": [],
   "source": [
    "gyro_only = kalman_states.copy()"
   ]
  },
  {
   "cell_type": "code",
   "execution_count": 655,
   "metadata": {},
   "outputs": [],
   "source": [
    "Q_acc = .001\n",
    "Q_ang = .0001 * dt\n",
    "\n",
    "number_of_timesteps = len(t)\n",
    "number_of_states = 3\n",
    "\n",
    "Q = np.array([\n",
    "    [Q_ang, 0, 0],  \n",
    "    [0, Q_ang, 0],   \n",
    "    [0, 0, Q_ang],   \n",
    "])    \n",
    "\n",
    "R = np.array([\n",
    "    [Q_acc, 0, 0],\n",
    "    [0, Q_acc, 0],    \n",
    "    [0, 0, Q_acc]\n",
    "]) ** 2    \n",
    "\n",
    "kalman_states = np.empty((number_of_timesteps, number_of_states)) * np.nan\n",
    "kalman_errors = np.empty((number_of_timesteps, number_of_states)) * np.nan\n",
    "\n",
    "I = np.identity(number_of_states)\n",
    "\n",
    "# initialize state\n",
    "mu = np.array([np.pi/8, np.pi/8, 0])\n",
    "P = np.array([\n",
    "    [Q_ang, 0, 0],\n",
    "    [0, Q_ang, 0],\n",
    "    [0, 0, Q_ang],    \n",
    "])\n",
    "for time_index in range(number_of_timesteps):\n",
    "    # Kalman step\n",
    "\n",
    "    pitch, roll, yaw = mu     \n",
    "    ax_, ay_, az_ = np.stack([ax, ay, az]).T[time_index, :]\n",
    "    \n",
    "    def f(mu, u):\n",
    "        gx, gy, gz = u\n",
    "        dyaw = gz * dt\n",
    "        dpitch = gx * dt\n",
    "        droll = gy * dt\n",
    "        \n",
    "        pitch, roll, yaw = mu\n",
    "        \n",
    "        total_R = R_(dyaw, dpitch, droll) @ R_(yaw, pitch, roll)\n",
    "        yaw, pitch, roll = get_yaw_pitch_roll_from_R(total_R)\n",
    "        mu = np.array([pitch, roll, yaw])\n",
    "        \n",
    "        return mu\n",
    "    \n",
    "    def h(mu):\n",
    "        pitch, roll, yaw = mu\n",
    "        return R_(0, pitch, roll) @ np.array([0, 0, -1])\n",
    "\n",
    "    F = np.array([\n",
    "        [1, 0, 0],\n",
    "        [0, 1, 0],\n",
    "        [0, 0, 1]\n",
    "    ])    \n",
    "    \n",
    "    z = np.array([ax_, ay_, az_])\n",
    "    \n",
    "    cb = np.cos(pitch)\n",
    "    sb = np.sin(pitch)\n",
    "    cg = np.cos(roll)\n",
    "    sg = np.sin(roll)\n",
    "    \n",
    "    H = -(np.array([\n",
    "        [sb*sg, -cb*cg, 0],\n",
    "        [cb, 0, 0],\n",
    "        [-sb*cg, -cb*sg, 0]     \n",
    "    ]))\n",
    "\n",
    "    # Predict\n",
    "    u = np.vstack([gx, gy, gz]).T[time_index]\n",
    "    mu_model = f(mu, u)\n",
    "    P = F @ P @ F.T + Q\n",
    "\n",
    "    # Update\n",
    "    y = z - h(mu)\n",
    "    K = P @ H.T @ np.linalg.inv(R + H @ P @ H.T)\n",
    "    mu = mu_model + K @ y\n",
    "    P = (I - K @ H) @ P @ (I - K @ H).T + K @ R @ K.T\n",
    "    y = z - H @ mu # post-fit residual\n",
    "\n",
    "    kalman_states[time_index,:] = mu\n",
    "    kalman_errors[time_index,:] = P.diagonal()**.5"
   ]
  },
  {
   "cell_type": "code",
   "execution_count": 656,
   "metadata": {},
   "outputs": [
    {
     "data": {
      "image/png": "[encoded data removed]",
      "text/plain": [
       "<Figure size 432x288 with 3 Axes>"
      ]
     },
     "metadata": {
      "needs_background": "light"
     },
     "output_type": "display_data"
    }
   ],
   "source": [
    "fig, (ax1, ax2, ax3) = plt.subplots(3, sharex=True)\n",
    "\n",
    "pitch = kalman_states[:, 0]\n",
    "roll = kalman_states[:, 1]\n",
    "yaw = kalman_states[:, 2]\n",
    "ax1.plot(t, pitch, '.')\n",
    "ax2.plot(t, roll, '.')\n",
    "ax3.plot(t, yaw, '.')\n",
    "fig.autofmt_xdate()"
   ]
  },
  {
   "cell_type": "code",
   "execution_count": 657,
   "metadata": {},
   "outputs": [],
   "source": [
    "both = kalman_states.copy()"
   ]
  },
  {
   "cell_type": "code",
   "execution_count": 658,
   "metadata": {},
   "outputs": [
    {
     "data": {
      "image/png": "[encoded data removed]",
      "text/plain": [
       "<Figure size 432x288 with 1 Axes>"
      ]
     },
     "metadata": {
      "needs_background": "light"
     },
     "output_type": "display_data"
    }
   ],
   "source": [
    "fig = plt.figure()\n",
    "plt.plot(t[::10], accel_only[:, 0][::10], 'o')\n",
    "plt.plot(t[::10], gyro_only[:, 0][::10], 'x')\n",
    "plt.plot(t, both[:, 0])\n",
    "fig.autofmt_xdate()"
   ]
  },
  {
   "cell_type": "code",
   "execution_count": 659,
   "metadata": {},
   "outputs": [
    {
     "data": {
      "image/png": "[encoded data removed]",
      "text/plain": [
       "<Figure size 432x288 with 1 Axes>"
      ]
     },
     "metadata": {
      "needs_background": "light"
     },
     "output_type": "display_data"
    }
   ],
   "source": [
    "fig = plt.figure()\n",
    "plt.plot(t[::10], accel_only[:, 1][::10], 'o')\n",
    "plt.plot(t[::10], gyro_only[:, 1][::10], 'x')\n",
    "plt.plot(t[::10], both[:, 1][::10])\n",
    "fig.autofmt_xdate()"
   ]
  },
  {
   "cell_type": "code",
   "execution_count": null,
   "metadata": {},
   "outputs": [],
   "source": []
  },
  {
   "cell_type": "code",
   "execution_count": null,
   "metadata": {},
   "outputs": [],
   "source": []
  },
  {
   "cell_type": "code",
   "execution_count": null,
   "metadata": {},
   "outputs": [],
   "source": []
  }
 ],
 "metadata": {
  "kernelspec": {
   "display_name": "Python 3",
   "language": "python",
   "name": "python3"
  },
  "language_info": {
   "codemirror_mode": {
    "name": "ipython",
    "version": 3
   },
   "file_extension": ".py",
   "mimetype": "text/x-python",
   "name": "python",
   "nbconvert_exporter": "python",
   "pygments_lexer": "ipython3",
   "version": "3.7.3"
  }
 },
 "nbformat": 4,
 "nbformat_minor": 2
}
