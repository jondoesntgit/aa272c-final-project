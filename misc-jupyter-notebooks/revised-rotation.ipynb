{
 "cells": [
  {
   "cell_type": "code",
   "execution_count": 2,
   "metadata": {},
   "outputs": [],
   "source": [
    "import numpy as np"
   ]
  },
  {
   "cell_type": "code",
   "execution_count": 1,
   "metadata": {},
   "outputs": [],
   "source": [
    "def R_(yaw, pitch, roll):\n",
    "    \"\"\"http://planning.cs.uiuc.edu/node102.html\"\"\"\n",
    "    \"\"\"Performs first roll, then pitch, then yaw\"\"\"\n",
    "    \"\"\"a : alpha, yaw\"\"\"\n",
    "    \"\"\"b: beta, pitch\"\"\"\n",
    "    \"\"\"r: gamma, roll\"\"\"\n",
    "    ca = np.cos(yaw)\n",
    "    cb = np.cos(pitch)\n",
    "    cg = np.cos(roll)\n",
    "    sa = np.sin(yaw)\n",
    "    sb = np.sin(pitch)\n",
    "    sg = np.sin(roll)\n",
    "    \n",
    "    \n",
    "    yR = np.array([\n",
    "        [ca, sa, 0],\n",
    "        [-sa, ca, 0],\n",
    "        [0, 0, 1]\n",
    "    ])\n",
    "    \n",
    "    pR = np.array([\n",
    "        [1, 0, 0],\n",
    "        [0, cb, sb],\n",
    "        [0, -sb, cb]\n",
    "    ])\n",
    "    \n",
    "    rR = np.array([\n",
    "        [cg, 0, -sg],\n",
    "        [0, 1, 0],\n",
    "        [sg, 0, cg]\n",
    "    ])\n",
    "    \n",
    "    #return rR @ pR @ yR\n",
    "    return np.array([\n",
    "        [ca*cg - sa*sb*sg, cg*sa + ca*sb*sg, -cb*sg],\n",
    "        [-cb*sa, ca*cb, sb],\n",
    "        [cg*sa*sb + ca*sg, -ca*cg*sb + sa*sg, cb*cg]\n",
    "    ])\n"
   ]
  },
  {
   "cell_type": "code",
   "execution_count": 3,
   "metadata": {},
   "outputs": [],
   "source": [
    "def R_(yaw, pitch, roll):\n",
    "    \"\"\"http://planning.cs.uiuc.edu/node102.html\"\"\"\n",
    "    \"\"\"Performs first roll, then pitch, then yaw\"\"\"\n",
    "    \"\"\"a : alpha, yaw\"\"\"\n",
    "    \"\"\"b: beta, pitch\"\"\"\n",
    "    \"\"\"r: gamma, roll\"\"\"\n",
    "    ca = np.cos(yaw)\n",
    "    cb = np.cos(pitch)\n",
    "    cg = np.cos(roll)\n",
    "    sa = np.sin(yaw)\n",
    "    sb = np.sin(pitch)\n",
    "    sg = np.sin(roll)\n",
    "    \n",
    "    \n",
    "    yR = np.array([\n",
    "        [ca, -sa, 0],\n",
    "        [sa, ca, 0],\n",
    "        [0, 0, 1]\n",
    "    ])\n",
    "    \n",
    "    pR = np.array([\n",
    "        [1, 0, 0],\n",
    "        [0, cb, -sb],\n",
    "        [0, sb, cb]\n",
    "    ])\n",
    "    \n",
    "    rR = np.array([\n",
    "        [cg, 0, sg],\n",
    "        [0, 1, 0],\n",
    "        [-sg, 0, cg]\n",
    "    ])\n",
    "    \n",
    "    #return rR @ pR @ yR\n",
    "    return np.array([\n",
    "        [ca*cg - sa*sb*sg, cg*sa + ca*sb*sg, -cb*sg],\n",
    "        [-cb*sa, ca*cb, sb],\n",
    "        [cg*sa*sb + ca*sg, -ca*cg*sb + sa*sg, cb*cg]\n",
    "    ])\n"
   ]
  },
  {
   "cell_type": "code",
   "execution_count": 7,
   "metadata": {},
   "outputs": [
    {
     "data": {
      "text/plain": [
       "array([ 0.70710678,  0.        , -0.70710678])"
      ]
     },
     "execution_count": 7,
     "metadata": {},
     "output_type": "execute_result"
    }
   ],
   "source": [
    "gravity = np.array([0, 0, -1])\n",
    "R_(0, 0, np.pi/4) @ gravity"
   ]
  },
  {
   "cell_type": "code",
   "execution_count": 9,
   "metadata": {},
   "outputs": [
    {
     "data": {
      "text/plain": [
       "array([ 0.        , -0.70710678, -0.70710678])"
      ]
     },
     "execution_count": 9,
     "metadata": {},
     "output_type": "execute_result"
    }
   ],
   "source": [
    "R_(0, np.pi/4, 0) @ gravity"
   ]
  },
  {
   "cell_type": "code",
   "execution_count": null,
   "metadata": {},
   "outputs": [],
   "source": []
  }
 ],
 "metadata": {
  "kernelspec": {
   "display_name": "Python 3",
   "language": "python",
   "name": "python3"
  },
  "language_info": {
   "codemirror_mode": {
    "name": "ipython",
    "version": 3
   },
   "file_extension": ".py",
   "mimetype": "text/x-python",
   "name": "python",
   "nbconvert_exporter": "python",
   "pygments_lexer": "ipython3",
   "version": "3.7.3"
  }
 },
 "nbformat": 4,
 "nbformat_minor": 2
}
