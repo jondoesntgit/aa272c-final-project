{
 "cells": [
  {
   "cell_type": "code",
   "execution_count": 44,
   "metadata": {},
   "outputs": [],
   "source": [
    "import numpy as np\n",
    "import matplotlib.pyplot as plt\n",
    "import pandas as pd\n",
    "\n",
    "inv = np.linalg.inv"
   ]
  },
  {
   "cell_type": "code",
   "execution_count": 65,
   "metadata": {},
   "outputs": [],
   "source": [
    "filename = 'ios/rotation-through-g-field.csv'\n",
    "filename = 'ios/rotation-along-principle-axes.csv'\n",
    "t, _, _, _, ax, ay, az, _, gx, gy, gz, _, magx, magy, magz, _, _, alt, _  = pd.read_csv(filename).values.T"
   ]
  },
  {
   "cell_type": "code",
   "execution_count": 66,
   "metadata": {},
   "outputs": [],
   "source": [
    "t = pd.to_datetime(t)"
   ]
  },
  {
   "cell_type": "code",
   "execution_count": 67,
   "metadata": {},
   "outputs": [],
   "source": [
    "dt = ((t[-1] - t[0]) / (len(t) - 1)).value / 1e9"
   ]
  },
  {
   "cell_type": "code",
   "execution_count": 68,
   "metadata": {},
   "outputs": [
    {
     "data": {
      "text/plain": [
       "[<matplotlib.lines.Line2D at 0x11ed4e588>]"
      ]
     },
     "execution_count": 68,
     "metadata": {},
     "output_type": "execute_result"
    },
    {
     "data": {
      "image/png": "[encoded data removed]",
      "text/plain": [
       "<Figure size 432x288 with 1 Axes>"
      ]
     },
     "metadata": {
      "needs_background": "light"
     },
     "output_type": "display_data"
    }
   ],
   "source": [
    "plt.plot(t, az)"
   ]
  },
  {
   "cell_type": "code",
   "execution_count": 69,
   "metadata": {},
   "outputs": [],
   "source": [
    "def R_(yaw, pitch, roll):\n",
    "    \"\"\"http://planning.cs.uiuc.edu/node102.html\"\"\"\n",
    "    \"\"\"Performs first roll, then pitch, then yaw\"\"\"\n",
    "    \"\"\"a : alpha, yaw\"\"\"\n",
    "    \"\"\"b: beta, pitch\"\"\"\n",
    "    \"\"\"r: gamma, roll\"\"\"\n",
    "    ca = np.cos(yaw)\n",
    "    cb = np.cos(pitch)\n",
    "    cg = np.cos(roll)\n",
    "    sa = np.sin(yaw)\n",
    "    sb = np.sin(pitch)\n",
    "    sg = np.sin(roll)\n",
    "    \n",
    "    return np.array([\n",
    "        [ca*cb, ca*sb*sg - sa*cg, ca*sb*cg + sa*sg],\n",
    "        [sa*cb, sa*sb*sg + ca*cg, sa*sb*cg - ca*sg],\n",
    "        [-sb, cb*sg, cb*cg]\n",
    "    ])\n",
    "\n",
    "def get_yaw_pitch_roll_from_R(R):\n",
    "    \"\"\"https://math.stackexchange.com/a/2802520\"\"\"\n",
    "    ix = R[0,0]\n",
    "    iy = R[1,0]\n",
    "    iz = R[2,0]\n",
    "    jz = R[2,1]\n",
    "    kz = R[2,2]\n",
    "    \n",
    "    roll = np.angle(1j*jz + kz)\n",
    "    pitch = np.arcsin(-iz)\n",
    "    yaw = np.arctan(iy/ix)\n",
    "    \n",
    "    return yaw, pitch, roll"
   ]
  },
  {
   "cell_type": "code",
   "execution_count": 70,
   "metadata": {},
   "outputs": [],
   "source": [
    "ar = R_(0, np.pi / 180 * 15, -0.1) @ np.array([0, 0, -1])"
   ]
  },
  {
   "cell_type": "code",
   "execution_count": 71,
   "metadata": {},
   "outputs": [
    {
     "data": {
      "text/plain": [
       "array([-0.25752603, -0.09983342, -0.96110022])"
      ]
     },
     "execution_count": 71,
     "metadata": {},
     "output_type": "execute_result"
    }
   ],
   "source": [
    "ar"
   ]
  },
  {
   "cell_type": "code",
   "execution_count": 72,
   "metadata": {},
   "outputs": [
    {
     "data": {
      "text/plain": [
       "array([ 2.77555756e-17, -9.98334166e-02, -9.95004165e-01])"
      ]
     },
     "execution_count": 72,
     "metadata": {},
     "output_type": "execute_result"
    }
   ],
   "source": [
    "np.linalg.inv(R_(0, np.pi / 180 * 15, 0)) @ ar "
   ]
  },
  {
   "cell_type": "code",
   "execution_count": 73,
   "metadata": {},
   "outputs": [
    {
     "data": {
      "text/plain": [
       "899"
      ]
     },
     "execution_count": 73,
     "metadata": {},
     "output_type": "execute_result"
    }
   ],
   "source": [
    "len(t)"
   ]
  },
  {
   "cell_type": "code",
   "execution_count": 74,
   "metadata": {},
   "outputs": [
    {
     "data": {
      "text/plain": [
       "(3, 899)"
      ]
     },
     "execution_count": 74,
     "metadata": {},
     "output_type": "execute_result"
    }
   ],
   "source": [
    "np.vstack([ax, ay, az]).shape"
   ]
  },
  {
   "cell_type": "code",
   "execution_count": 174,
   "metadata": {},
   "outputs": [],
   "source": [
    "Q_acc = .01\n",
    "Q_ang = 1\n",
    "\n",
    "number_of_timesteps = len(t)\n",
    "number_of_states = 2\n",
    "\n",
    "Q = np.array([\n",
    "    [Q_ang, 0],  \n",
    "    [0, Q_ang],    \n",
    "])    \n",
    "\n",
    "R = np.array([\n",
    "    [Q_acc, 0, 0],\n",
    "    [0, Q_acc, 0],    \n",
    "    [0, 0, Q_acc]\n",
    "]) ** 2    \n",
    "\n",
    "kalman_states = np.empty((number_of_timesteps, number_of_states)) * np.nan\n",
    "kalman_errors = np.empty((number_of_timesteps, number_of_states)) * np.nan\n",
    "\n",
    "I = np.identity(number_of_states)\n",
    "\n",
    "# initialize state\n",
    "mu = np.array([0, 0])\n",
    "P = np.array([\n",
    "    [Q_ang, 0],\n",
    "    [0, Q_ang],\n",
    "])\n",
    "for time_index in range(number_of_timesteps):\n",
    "    # Kalman step\n",
    "\n",
    "    pitch, roll = mu     \n",
    "    ax_, ay_, az_ = np.stack([ax, ay, az]).T[time_index, :]\n",
    "    \n",
    "    def f(mu, u):\n",
    "        return mu\n",
    "    \n",
    "    def h(mu):\n",
    "        pitch, roll = mu\n",
    "        return R_(0, pitch, roll) @ np.array([0, 0, -1])\n",
    "\n",
    "    F = np.array([\n",
    "        [1, 0],\n",
    "        [0, 1],\n",
    "    ])    \n",
    "    \n",
    "    z = np.array([ax_, ay_, az_])\n",
    "    \n",
    "    cb = np.cos(pitch)\n",
    "    sb = np.sin(pitch)\n",
    "    cg = np.cos(roll)\n",
    "    sg = np.sin(roll)\n",
    "    \n",
    "    H = -(np.array([\n",
    "        [cb*cg, -sb*sg],\n",
    "        [0, -cg],\n",
    "        [-sb*cg, -cb*sg]\n",
    "    ]))\n",
    "\n",
    "    # Predict\n",
    "    mu_model = f(mu, _)\n",
    "    P = F @ P @ F.T + Q\n",
    "\n",
    "    # Update\n",
    "    y = z - h(mu)\n",
    "    K = P @ H.T @ np.linalg.inv(R + H @ P @ H.T)\n",
    "    mu = mu_model + K @ y\n",
    "    P = (I - K @ H) @ P @ (I - K @ H).T + K @ R @ K.T\n",
    "    y = z - H @ mu # post-fit residual\n",
    "\n",
    "    kalman_states[time_index,:] = mu\n",
    "    kalman_errors[time_index,:] = P.diagonal()**.5"
   ]
  },
  {
   "cell_type": "code",
   "execution_count": 175,
   "metadata": {},
   "outputs": [
    {
     "data": {
      "text/plain": [
       "1.006489183990816"
      ]
     },
     "execution_count": 175,
     "metadata": {},
     "output_type": "execute_result"
    }
   ],
   "source": [
    "np.linalg.norm(z)"
   ]
  },
  {
   "cell_type": "code",
   "execution_count": 176,
   "metadata": {},
   "outputs": [],
   "source": [
    "no_gyro_kalman_states = kalman_states.copy()"
   ]
  },
  {
   "cell_type": "code",
   "execution_count": 208,
   "metadata": {},
   "outputs": [],
   "source": [
    "mu_model = np.array([np.pi, np.pi/2])"
   ]
  },
  {
   "cell_type": "code",
   "execution_count": 211,
   "metadata": {},
   "outputs": [
    {
     "data": {
      "text/plain": [
       "array([[ 0.,  1.,  0.],\n",
       "       [ 0.,  0., -1.],\n",
       "       [-1.,  0.,  0.]])"
      ]
     },
     "execution_count": 211,
     "metadata": {},
     "output_type": "execute_result"
    }
   ],
   "source": [
    "np.around(R_(0, np.pi/2, np.pi/2), 2)"
   ]
  },
  {
   "cell_type": "code",
   "execution_count": 215,
   "metadata": {},
   "outputs": [
    {
     "data": {
      "text/plain": [
       "array([[ 1.,  0.,  0.],\n",
       "       [ 0.,  1.,  0.],\n",
       "       [-0.,  0.,  1.]])"
      ]
     },
     "execution_count": 215,
     "metadata": {},
     "output_type": "execute_result"
    }
   ],
   "source": [
    "np.around(R_(0, 0, 0), 2)\n"
   ]
  },
  {
   "cell_type": "code",
   "execution_count": 219,
   "metadata": {},
   "outputs": [
    {
     "data": {
      "text/plain": [
       "array([[ 0.,  1.,  0.],\n",
       "       [ 0.,  0., -1.],\n",
       "       [-1.,  0.,  0.]])"
      ]
     },
     "execution_count": 219,
     "metadata": {},
     "output_type": "execute_result"
    }
   ],
   "source": [
    "np.around(R_(0, np.pi/2, np.pi/2), 2)\n"
   ]
  },
  {
   "cell_type": "code",
   "execution_count": 220,
   "metadata": {},
   "outputs": [
    {
     "data": {
      "text/plain": [
       "array([[ 0.,  1.,  0.],\n",
       "       [ 0.,  0., -1.],\n",
       "       [-1.,  0.,  0.]])"
      ]
     },
     "execution_count": 220,
     "metadata": {},
     "output_type": "execute_result"
    }
   ],
   "source": [
    "np.around(R_(0, np.pi/2, 0)@ R_(0, 0, np.pi/2), 2)"
   ]
  },
  {
   "cell_type": "code",
   "execution_count": 209,
   "metadata": {},
   "outputs": [
    {
     "data": {
      "text/plain": [
       "array([-7.49879891e-33,  1.00000000e+00,  6.12323400e-17])"
      ]
     },
     "execution_count": 209,
     "metadata": {},
     "output_type": "execute_result"
    }
   ],
   "source": [
    "h(mu_model)"
   ]
  },
  {
   "cell_type": "code",
   "execution_count": 187,
   "metadata": {},
   "outputs": [
    {
     "data": {
      "text/plain": [
       "[<matplotlib.lines.Line2D at 0x121bc0e80>]"
      ]
     },
     "execution_count": 187,
     "metadata": {},
     "output_type": "execute_result"
    },
    {
     "data": {
      "image/png": "[encoded data removed]",
      "text/plain": [
       "<Figure size 432x288 with 1 Axes>"
      ]
     },
     "metadata": {
      "needs_background": "light"
     },
     "output_type": "display_data"
    }
   ],
   "source": [
    "idx = 0\n",
    "pitch = kalman_states[:, 0]\n",
    "plt.plot(t, pitch, '.')"
   ]
  },
  {
   "cell_type": "code",
   "execution_count": 180,
   "metadata": {},
   "outputs": [
    {
     "data": {
      "text/plain": [
       "<ErrorbarContainer object of 3 artists>"
      ]
     },
     "execution_count": 180,
     "metadata": {},
     "output_type": "execute_result"
    },
    {
     "data": {
      "image/png": "[encoded data removed]",
      "text/plain": [
       "<Figure size 432x288 with 1 Axes>"
      ]
     },
     "metadata": {
      "needs_background": "light"
     },
     "output_type": "display_data"
    }
   ],
   "source": [
    "idx = 1\n",
    "plt.errorbar(t, kalman_states[:, idx], kalman_errors[:, idx])"
   ]
  },
  {
   "cell_type": "code",
   "execution_count": 82,
   "metadata": {},
   "outputs": [],
   "source": [
    "Q_acc = .01\n",
    "Q_ang = .0001 * dt\n",
    "\n",
    "number_of_timesteps = len(t)\n",
    "number_of_states = 3\n",
    "\n",
    "Q = np.array([\n",
    "    [Q_ang, 0, 0],  \n",
    "    [0, Q_ang, 0],   \n",
    "    [0, 0, Q_ang],   \n",
    "])    \n",
    "\n",
    "R = np.array([\n",
    "    [Q_acc, 0, 0],\n",
    "    [0, Q_acc, 0],    \n",
    "    [0, 0, Q_acc]\n",
    "]) ** 2    \n",
    "\n",
    "kalman_states = np.empty((number_of_timesteps, number_of_states)) * np.nan\n",
    "kalman_errors = np.empty((number_of_timesteps, number_of_states)) * np.nan\n",
    "\n",
    "I = np.identity(number_of_states)\n",
    "\n",
    "# initialize state\n",
    "mu = np.array([0, 0, 0])\n",
    "P = np.array([\n",
    "    [Q_ang, 0, 0],\n",
    "    [0, Q_ang, 0],\n",
    "    [0, 0, Q_ang],    \n",
    "])\n",
    "for time_index in range(number_of_timesteps):\n",
    "    # Kalman step\n",
    "\n",
    "    pitch, roll, yaw = mu     \n",
    "    ax_, ay_, az_ = np.stack([ax, ay, az]).T[time_index, :]\n",
    "    \n",
    "    def f(mu, u):\n",
    "        gx, gy, gz = u\n",
    "        dyaw = gz * dt\n",
    "        dpitch = gx * dt\n",
    "        droll = gy * dt\n",
    "        \n",
    "        pitch, roll, yaw = mu\n",
    "        \n",
    "        total_R = R_(dyaw, dpitch, droll) @ R_(yaw, pitch, roll)\n",
    "        yaw, pitch, roll = get_yaw_pitch_roll_from_R(total_R)\n",
    "        mu = np.array([pitch, roll, yaw])\n",
    "        \n",
    "        return mu\n",
    "    \n",
    "    def h(mu):\n",
    "        pitch, roll, yaw = mu\n",
    "        return R_(0, pitch, roll) @ np.array([0, 0, -1])\n",
    "\n",
    "    F = np.array([\n",
    "        [1, 0, 0],\n",
    "        [0, 1, 0],\n",
    "        [0, 0, 1]\n",
    "    ])    \n",
    "    \n",
    "    z = np.array([ax_, ay_, az_])\n",
    "    \n",
    "    cb = np.cos(pitch)\n",
    "    sb = np.sin(pitch)\n",
    "    cg = np.cos(roll)\n",
    "    sg = np.sin(roll)\n",
    "    \n",
    "    H = - np.array([\n",
    "        [cb*cg, -sb*sg, 0],\n",
    "        [0, -cg, 0],\n",
    "        [-sb*cg, -cb*sg, 0]\n",
    "    ])\n",
    "\n",
    "    # Predict\n",
    "    u = np.vstack([gx, gy, gz]).T[time_index]\n",
    "    mu_model = f(mu, u)\n",
    "    P = F @ P @ F.T + Q\n",
    "\n",
    "    # Update\n",
    "    #y = z - h(mu)\n",
    "    #K = P @ H.T @ np.linalg.inv(R + H @ P @ H.T)\n",
    "    mu = mu_model #+ K @ y\n",
    "    #P = (I - K @ H) @ P @ (I - K @ H).T + K @ R @ K.T\n",
    "    #y = z - H @ mu # post-fit residual\n",
    "\n",
    "    kalman_states[time_index,:] = mu\n",
    "    kalman_errors[time_index,:] = P.diagonal()**.5"
   ]
  },
  {
   "cell_type": "code",
   "execution_count": 83,
   "metadata": {},
   "outputs": [
    {
     "data": {
      "text/plain": [
       "[<matplotlib.lines.Line2D at 0x11d7b5e48>]"
      ]
     },
     "execution_count": 83,
     "metadata": {},
     "output_type": "execute_result"
    },
    {
     "data": {
      "image/png": "[encoded data removed]",
      "text/plain": [
       "<Figure size 432x288 with 1 Axes>"
      ]
     },
     "metadata": {
      "needs_background": "light"
     },
     "output_type": "display_data"
    }
   ],
   "source": [
    "fig, axis = plt.subplots(1)\n",
    "idx = 0\n",
    "#ax.errorbar(t, kalman_states[:, idx], kalman_errors[:, idx])\n",
    "axis.plot(t, kalman_states[:, idx])\n",
    "idx = 1\n",
    "axis.plot(t, -no_gyro_kalman_states[:, idx])"
   ]
  },
  {
   "cell_type": "code",
   "execution_count": 84,
   "metadata": {},
   "outputs": [
    {
     "data": {
      "text/plain": [
       "[<matplotlib.lines.Line2D at 0x11d7eabe0>]"
      ]
     },
     "execution_count": 84,
     "metadata": {},
     "output_type": "execute_result"
    },
    {
     "data": {
      "image/png": "[encoded data removed]",
      "text/plain": [
       "<Figure size 432x288 with 1 Axes>"
      ]
     },
     "metadata": {
      "needs_background": "light"
     },
     "output_type": "display_data"
    }
   ],
   "source": [
    "fig, axis = plt.subplots(1)\n",
    "idx = 0\n",
    "#ax.errorbar(t, kalman_states[:, idx], kalman_errors[:, idx])\n",
    "axis.plot(t, kalman_states[:, idx])\n",
    "idx = 1\n",
    "axis.plot(t, -no_gyro_kalman_states[:, idx])"
   ]
  },
  {
   "cell_type": "code",
   "execution_count": 85,
   "metadata": {},
   "outputs": [
    {
     "data": {
      "text/plain": [
       "<ErrorbarContainer object of 3 artists>"
      ]
     },
     "execution_count": 85,
     "metadata": {},
     "output_type": "execute_result"
    },
    {
     "data": {
      "image/png": "[encoded data removed]",
      "text/plain": [
       "<Figure size 432x288 with 1 Axes>"
      ]
     },
     "metadata": {
      "needs_background": "light"
     },
     "output_type": "display_data"
    }
   ],
   "source": [
    "idx = 1\n",
    "plt.errorbar(t, kalman_states[:, idx], kalman_errors[:, idx])"
   ]
  },
  {
   "cell_type": "code",
   "execution_count": 150,
   "metadata": {},
   "outputs": [
    {
     "data": {
      "text/plain": [
       "<ErrorbarContainer object of 3 artists>"
      ]
     },
     "execution_count": 150,
     "metadata": {},
     "output_type": "execute_result"
    },
    {
     "data": {
      "image/png": "[encoded data removed]",
      "text/plain": [
       "<Figure size 432x288 with 1 Axes>"
      ]
     },
     "metadata": {
      "needs_background": "light"
     },
     "output_type": "display_data"
    }
   ],
   "source": [
    "idx = 2\n",
    "plt.errorbar(t, kalman_states[:, idx], kalman_errors[:, idx])"
   ]
  },
  {
   "cell_type": "code",
   "execution_count": 151,
   "metadata": {},
   "outputs": [
    {
     "data": {
      "text/plain": [
       "array([-0.01688896864652634, 0.007861651480197906, -0.007253119256347419],\n",
       "      dtype=object)"
      ]
     },
     "execution_count": 151,
     "metadata": {},
     "output_type": "execute_result"
    }
   ],
   "source": [
    "np.vstack([gx, gy, gz]).T[3]#.shape"
   ]
  },
  {
   "cell_type": "code",
   "execution_count": null,
   "metadata": {},
   "outputs": [],
   "source": [
    "yaw_component = cos_pitch * cos_roll\n"
   ]
  },
  {
   "cell_type": "code",
   "execution_count": 44,
   "metadata": {},
   "outputs": [
    {
     "data": {
      "text/plain": [
       "13"
      ]
     },
     "execution_count": 44,
     "metadata": {},
     "output_type": "execute_result"
    }
   ],
   "source": [
    "np.array([\n",
    "    [11,12,13],\n",
    "    [21, 22, 23],\n",
    "    [31, 32,33]\n",
    "])[0,2]"
   ]
  },
  {
   "cell_type": "code",
   "execution_count": 56,
   "metadata": {},
   "outputs": [],
   "source": [
    "def get_yaw_pitch_roll_from_R(R):\n",
    "    \"\"\"https://math.stackexchange.com/a/2802520\"\"\"\n",
    "    ix = R[0,0]\n",
    "    iy = R[1,0]\n",
    "    iz = R[2,0]\n",
    "    jz = R[2,1]\n",
    "    kz = R[2,2]\n",
    "    \n",
    "    roll = np.angle(1j*jz + kz)\n",
    "    pitch = np.arcsin(-iz)\n",
    "    yaw = np.arctan(iy/ix)\n",
    "    \n",
    "    return yaw, pitch, roll"
   ]
  },
  {
   "cell_type": "code",
   "execution_count": 58,
   "metadata": {},
   "outputs": [
    {
     "data": {
      "text/plain": [
       "(1.0, 0.5, 0.7)"
      ]
     },
     "execution_count": 58,
     "metadata": {},
     "output_type": "execute_result"
    }
   ],
   "source": [
    "get_yaw_pitch_roll_from_R(R_(1, 0.5, .7))"
   ]
  },
  {
   "cell_type": "code",
   "execution_count": null,
   "metadata": {},
   "outputs": [],
   "source": []
  }
 ],
 "metadata": {
  "kernelspec": {
   "display_name": "Python 3",
   "language": "python",
   "name": "python3"
  },
  "language_info": {
   "codemirror_mode": {
    "name": "ipython",
    "version": 3
   },
   "file_extension": ".py",
   "mimetype": "text/x-python",
   "name": "python",
   "nbconvert_exporter": "python",
   "pygments_lexer": "ipython3",
   "version": "3.7.3"
  }
 },
 "nbformat": 4,
 "nbformat_minor": 2
}
